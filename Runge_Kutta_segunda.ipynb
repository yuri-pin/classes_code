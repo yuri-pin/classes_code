{
  "nbformat": 4,
  "nbformat_minor": 0,
  "metadata": {
    "colab": {
      "provenance": [],
      "authorship_tag": "ABX9TyPQM60X/mkZ0kXyeEK8F+nn",
      "include_colab_link": true
    },
    "kernelspec": {
      "name": "python3",
      "display_name": "Python 3"
    },
    "language_info": {
      "name": "python"
    }
  },
  "cells": [
    {
      "cell_type": "markdown",
      "metadata": {
        "id": "view-in-github",
        "colab_type": "text"
      },
      "source": [
        "<a href=\"https://colab.research.google.com/github/yuri-pin/classes_code/blob/main/Runge_Kutta_segunda.ipynb\" target=\"_parent\"><img src=\"https://colab.research.google.com/assets/colab-badge.svg\" alt=\"Open In Colab\"/></a>"
      ]
    },
    {
      "cell_type": "markdown",
      "source": [
        "#Runge-Kutta de segunda ordem\n",
        "\n",
        "\n",
        "Para esse problema temos que ver como funcionam as equações que vamos trabalhar se relacionam com as condições iniciais.\n",
        "\n",
        "$x_{i+1} = x_i + hak_1 + hbk_2\\\\\n",
        "k_1 = f(t_i,x_i) \\\\\n",
        "k_2 = f(t_i + h\\alpha,x_i + hβk_1)$\n",
        "\n",
        "\n",
        "Essa aproximação tem o erro na ordem $\\mathcal{O}(h^3)$, assim ele pode ser igualado à aproximação de Euler de segunda ordem\n",
        "$x_{i+1} = x_i + hf(x_i) + \\frac{h^2}{2}(\\frac{∂f(x_i)}{∂t} + \\frac{∂f(x_i)}{∂x}f(x_i))$\n",
        "\n",
        "Com todo o trabalho algébrico feito, teremos que as quatro variáveis $(a,b,\\alpha,β)$, as quais podemos reescrever como dependências de $b$ como $(1-b,b,\\frac{1}{2b},\\frac{1}{2b})$."
      ],
      "metadata": {
        "id": "5YLb6WEYKlFB"
      }
    },
    {
      "cell_type": "code",
      "execution_count": null,
      "metadata": {
        "id": "KTqG4ApQKcX-"
      },
      "outputs": [],
      "source": [
        "import numpy as np\n",
        "import matplotlib.pyplot as plt"
      ]
    },
    {
      "cell_type": "code",
      "source": [
        "#número de  passos\n",
        "N = 100\n",
        "\n",
        "#array referente à posição\n",
        "x = np.zeros(N+1)\n",
        "\n",
        "#condições iniciais\n",
        "x[0] = 1"
      ],
      "metadata": {
        "id": "zM8ZmYF4TTcO"
      },
      "execution_count": null,
      "outputs": []
    },
    {
      "cell_type": "code",
      "source": [
        "def f(t,x):\n",
        "  '''\n",
        "  t é o tempo\n",
        "  x é a posição no tempo t ambos na nossa equação diferencial'''\n",
        "  f = 1 + t - x\n",
        "  return f"
      ],
      "metadata": {
        "id": "Z4Ra3EwueAYD"
      },
      "execution_count": null,
      "outputs": []
    },
    {
      "cell_type": "code",
      "source": [
        "def RK_2ordem(I,N,b,x):\n",
        "  \"\"\"\n",
        "  Essa função tem como objetivo calcular uma aproximação por Runge-Kutta de segunda ordem\n",
        "  I é o intervalo de tempo que iremos trabalhar\n",
        "  N é o número de iterações que serão feitos dentro do intervalo\n",
        "  b é o coeficiente de dependência\n",
        "  x é a posição\n",
        "  \"\"\"\n",
        "  a     = 1 - b\n",
        "  alpha = 1/(2*b)\n",
        "  beta  = 1/(2*b)\n",
        "  h = I/N\n",
        "  for j in range(1,N+1):\n",
        "    k_1 = f(h*(j-1),x[j-1])\n",
        "    k_2 = f(h*(j-1 + alpha),x[j-1] + h*beta*k_1)\n",
        "    x[j] = x[j-1] + h*a*k_1 + h*b*k_2\n",
        "  return x\n",
        "\n",
        "\n",
        "print(RK_2ordem(1,N,1,x))\n",
        "print(RK_2ordem(1,N,1/2,x))"
      ],
      "metadata": {
        "colab": {
          "base_uri": "https://localhost:8080/"
        },
        "id": "IRKzVo8WR6rI",
        "outputId": "1d9c859b-cd8d-4d35-acce-bbef811a9631"
      },
      "execution_count": null,
      "outputs": [
        {
          "output_type": "stream",
          "name": "stdout",
          "text": [
            "[1.         1.00005    1.000199   1.00044602 1.00079008 1.00123022\n",
            " 1.00176548 1.00239492 1.00311759 1.00393257 1.00483894 1.00583579\n",
            " 1.00692222 1.00809735 1.00936028 1.01071014 1.01214608 1.01366722\n",
            " 1.01527274 1.01696177 1.0187335  1.0205871  1.02252176 1.02453667\n",
            " 1.02663103 1.02880405 1.03105495 1.03338296 1.0357873  1.03826721\n",
            " 1.04082195 1.04345077 1.04615294 1.04892772 1.05177439 1.05469223\n",
            " 1.05768054 1.06073862 1.06386577 1.06706131 1.07032455 1.07365482\n",
            " 1.07705145 1.08051379 1.08404118 1.08763297 1.09128852 1.0950072\n",
            " 1.09878838 1.10263143 1.10653575 1.11050072 1.11452574 1.11861021\n",
            " 1.12275354 1.12695514 1.13121444 1.13553085 1.13990382 1.14433278\n",
            " 1.14881717 1.15335643 1.15795004 1.16259744 1.16729809 1.17205147\n",
            " 1.17685706 1.18171433 1.18662278 1.19158188 1.19659114 1.20165006\n",
            " 1.20675814 1.2119149  1.21711984 1.2223725  1.2276724  1.23301906\n",
            " 1.23841202 1.24385082 1.249335   1.25486412 1.26043772 1.26605536\n",
            " 1.27171661 1.27742103 1.28316819 1.28895767 1.29478904 1.30066189\n",
            " 1.3065758  1.31253038 1.3185252  1.32455987 1.330634   1.33674719\n",
            " 1.34289906 1.34908921 1.35531728 1.36158287 1.36788562]\n",
            "[1.         1.00005    1.000199   1.00044602 1.00079008 1.00123022\n",
            " 1.00176548 1.00239492 1.00311759 1.00393257 1.00483894 1.00583579\n",
            " 1.00692222 1.00809735 1.00936028 1.01071014 1.01214608 1.01366722\n",
            " 1.01527274 1.01696177 1.0187335  1.0205871  1.02252176 1.02453667\n",
            " 1.02663103 1.02880405 1.03105495 1.03338296 1.0357873  1.03826721\n",
            " 1.04082195 1.04345077 1.04615294 1.04892772 1.05177439 1.05469223\n",
            " 1.05768054 1.06073862 1.06386577 1.06706131 1.07032455 1.07365482\n",
            " 1.07705145 1.08051379 1.08404118 1.08763297 1.09128852 1.0950072\n",
            " 1.09878838 1.10263143 1.10653575 1.11050072 1.11452574 1.11861021\n",
            " 1.12275354 1.12695514 1.13121444 1.13553085 1.13990382 1.14433278\n",
            " 1.14881717 1.15335643 1.15795004 1.16259744 1.16729809 1.17205147\n",
            " 1.17685706 1.18171433 1.18662278 1.19158188 1.19659114 1.20165006\n",
            " 1.20675814 1.2119149  1.21711984 1.2223725  1.2276724  1.23301906\n",
            " 1.23841202 1.24385082 1.249335   1.25486412 1.26043772 1.26605536\n",
            " 1.27171661 1.27742103 1.28316819 1.28895767 1.29478904 1.30066189\n",
            " 1.3065758  1.31253038 1.3185252  1.32455987 1.330634   1.33674719\n",
            " 1.34289906 1.34908921 1.35531728 1.36158287 1.36788562]\n"
          ]
        }
      ]
    }
  ]
}