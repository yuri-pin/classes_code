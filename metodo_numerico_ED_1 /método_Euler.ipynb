{
  "nbformat": 4,
  "nbformat_minor": 0,
  "metadata": {
    "colab": {
      "provenance": [],
      "authorship_tag": "ABX9TyNX2bOih1AD4MJ4NHATrFXf",
      "include_colab_link": true
    },
    "kernelspec": {
      "name": "python3",
      "display_name": "Python 3"
    },
    "language_info": {
      "name": "python"
    }
  },
  "cells": [
    {
      "cell_type": "markdown",
      "metadata": {
        "id": "view-in-github",
        "colab_type": "text"
      },
      "source": [
        "<a href=\"https://colab.research.google.com/github/yuri-pin/classes_code/blob/main/metodo_numerico_ED_1%20/m%C3%A9todo_Euler.ipynb\" target=\"_parent\"><img src=\"https://colab.research.google.com/assets/colab-badge.svg\" alt=\"Open In Colab\"/></a>"
      ]
    },
    {
      "cell_type": "markdown",
      "source": [
        "Para esse problema teremos que aplicar diferentes métodos de Euler para ver qual é uma melhor aproximação para a solução de\n",
        "$$\n",
        "\\dot{x} = t(x-x^2)\n",
        "$$"
      ],
      "metadata": {
        "id": "RdcdTed-Q1vV"
      }
    },
    {
      "cell_type": "code",
      "source": [
        "import numpy as np\n",
        "import matplotlib.pyplot as plt\n",
        "import prettytable\n",
        "\n",
        "#para todos os métodos\n",
        "N = 20\n",
        "#condição inicial\n",
        "#x[0] = 1/2"
      ],
      "metadata": {
        "id": "Ba7KGkX8Rhca"
      },
      "execution_count": null,
      "outputs": []
    },
    {
      "cell_type": "markdown",
      "source": [
        "Agora vamos aplicar o método de Euler mais simples que é o explícito\n",
        "$$\n",
        "x(t+Δt) = x(t) + Δt\\cdot f(x(t),t)\n",
        "$$"
      ],
      "metadata": {
        "id": "xPR9_pJ6SxGX"
      }
    },
    {
      "cell_type": "code",
      "source": [
        "x_e = np.zeros(N + 1)\n",
        "x_e[0] = 1/2\n",
        "for j in range (1,N+1):\n",
        "  x_e[j] = x_e[j-1] + (1/N)*((j-1)/N)*(x_e[j-1] - x_e[j-1]**2)\n",
        "print(x_e)\n"
      ],
      "metadata": {
        "colab": {
          "base_uri": "https://localhost:8080/"
        },
        "id": "92dTBZgGSwlx",
        "outputId": "572fe02c-4ceb-42f6-fd73-3bb1f248780d"
      },
      "execution_count": null,
      "outputs": [
        {
          "output_type": "stream",
          "name": "stdout",
          "text": [
            "[0.5        0.5        0.500625   0.501875   0.50374997 0.50624983\n",
            " 0.50937434 0.51312302 0.51749501 0.52248889 0.52810251 0.53433277\n",
            " 0.54117535 0.54862449 0.55667265 0.56531023 0.57452528 0.58430312\n",
            " 0.59462607 0.60547314 0.61681972]\n"
          ]
        }
      ]
    },
    {
      "cell_type": "markdown",
      "source": [
        "Agora vamos aplicar o método de Euler mais simples que é o implícito\n",
        "$$\n",
        "x(t+Δt) = x(t) + Δt\\cdot f(x(t+Δt),t+Δt)\n",
        "$$"
      ],
      "metadata": {
        "id": "OUmtPVTrYMdM"
      }
    },
    {
      "cell_type": "code",
      "source": [
        "#vamos determinar as variaveis antes\n",
        "d_t = 1/N\n",
        "\n",
        "x_i = np.zeros(N+1)\n",
        "x_i[0] = 1/2\n",
        "for j in range (1,N+1):\n",
        "  x_i[j] = ((d_t*(j*d_t + d_t) - 1) + ((d_t*(j*d_t + d_t) - 1)**2 + 4*(d_t*(j*d_t + d_t))*x_i[j-1])**(1/2))/(2*d_t*(j*d_t + d_t))\n",
        "\n",
        "print(x_i)\n"
      ],
      "metadata": {
        "colab": {
          "base_uri": "https://localhost:8080/"
        },
        "id": "oqQwTYgNoTVK",
        "outputId": "7e9cf3a1-9e1f-44c5-cd26-0d99572df82a"
      },
      "execution_count": null,
      "outputs": [
        {
          "output_type": "stream",
          "name": "stdout",
          "text": [
            "[0.5        0.50124999 0.50312492 0.5056246  0.50874865 0.5124963\n",
            " 0.51686633 0.52185677 0.5274648  0.53368643 0.54051629 0.54794732\n",
            " 0.55597051 0.56457456 0.57374562 0.58346695 0.59371866 0.60447746\n",
            " 0.61571643 0.62740483 0.63950805]\n"
          ]
        }
      ]
    },
    {
      "cell_type": "markdown",
      "source": [
        "Agora vamos trabalhar com o método de Euler de segunda ordem\n",
        "$$\n",
        "x(t + Δt) = x(t) + Δt⋅f(x(t),t) + \\frac{(Δt)^2}{2}\\left( \\frac{\\partial f(x(t),t)}{\\partial t} + \\frac{\\partial f(x(t),t)}{\\partial x}\\cdot f(x(t),t) \\right)\n",
        "$$\n",
        "e como a função f que temos é dada por  $$f(x,t) = t(x - x^2)$$ teremos que as derivadas parciais são\n",
        "$$\\frac{\\partial f(x(t),t)}{\\partial x} = t(1-2x)$$ e $$\\frac{\\partial f(x(t),t)}{\\partial t} = (x-x^2)$$"
      ],
      "metadata": {
        "id": "FIljiPuA3g-U"
      }
    },
    {
      "cell_type": "code",
      "source": [
        "x_1 = np.zeros(N+1)\n",
        "x_1[0] = 1/2\n",
        "for j in range (1,N+1):\n",
        "  x_1[j] = x_1[j-1] + (1/N)*((j-1)/N)*(x_1[j-1] - x_1[j-1]**2) + (((1/N)**2)/2)*((x_1[j-1]-x_1[j-1]**2) + ((j-1)/N)*(1-2*x_1[j-1])*((x_1[j-1] - x_1[j-1]**2)))\n",
        "print(x_e)"
      ],
      "metadata": {
        "colab": {
          "base_uri": "https://localhost:8080/"
        },
        "id": "P1hY_VDRtKxy",
        "outputId": "8e770d40-756a-4cac-857b-e7fda0e27239"
      },
      "execution_count": null,
      "outputs": [
        {
          "output_type": "stream",
          "name": "stdout",
          "text": [
            "[0.5        0.5        0.500625   0.501875   0.50374997 0.50624983\n",
            " 0.50937434 0.51312302 0.51749501 0.52248889 0.52810251 0.53433277\n",
            " 0.54117535 0.54862449 0.55667265 0.56531023 0.57452528 0.58430312\n",
            " 0.59462607 0.60547314 0.61681972]\n"
          ]
        }
      ]
    },
    {
      "cell_type": "markdown",
      "source": [
        "Por fim vamos fazer o método numérico de Euler misto\n",
        "$$\n",
        "x(t+Δt) = x(t) + \\frac{Δt}{2}\\cdot [f(x(t+Δt),t+Δt) + f(x(t),t)]\n",
        "$$\n"
      ],
      "metadata": {
        "id": "B4kp8KBOBaox"
      }
    },
    {
      "cell_type": "code",
      "source": [
        "#vamos determinar as variaveis antes\n",
        "d_t = 1/N\n",
        "\n",
        "x_m = np.zeros(N+1)\n",
        "x_m[0] = 1/2\n",
        "for j in range (1,N+1):\n",
        "  x_m[j] = ((d_t*(j*d_t + d_t)/2 - 1) + ((d_t*(j*d_t + d_t)/2 - 1)**2 + 4*(d_t*(j*d_t + d_t)/2)*(x_m[j-1] + d_t*(j*d_t)*(x_m[j-1]-x_m[j-1]**2)/2))**(1/2))/(2*d_t*(j*d_t + d_t)/2)\n",
        "\n",
        "print(x_m)"
      ],
      "metadata": {
        "colab": {
          "base_uri": "https://localhost:8080/"
        },
        "id": "GY1JfI55Ga2L",
        "outputId": "70d8062c-9d92-4b07-d0b6-1a3bb95e06e5"
      },
      "execution_count": null,
      "outputs": [
        {
          "output_type": "stream",
          "name": "stdout",
          "text": [
            "[0.5        0.5009375  0.50249997 0.50468734 0.50749938 0.51093563\n",
            " 0.51499526 0.51967693 0.52497853 0.53089708 0.53742839 0.54456683\n",
            " 0.55230508 0.56063379 0.56954127 0.57901324 0.58903243 0.59957838\n",
            " 0.61062711 0.62215093 0.63411823]\n"
          ]
        }
      ]
    },
    {
      "cell_type": "code",
      "source": [
        "x = np.zeros(N+1)\n",
        "for j in range (0,N+1):\n",
        "  x[j] = np.exp((j/N)**2/2)/(1+np.exp((j/N)**2/2))\n",
        "print(x)"
      ],
      "metadata": {
        "colab": {
          "base_uri": "https://localhost:8080/"
        },
        "id": "ThJuSZZyHU8V",
        "outputId": "d309c991-57f1-4665-dad5-b16757569f5e"
      },
      "execution_count": null,
      "outputs": [
        {
          "output_type": "stream",
          "name": "stdout",
          "text": [
            "[0.5        0.5003125  0.50125    0.50281247 0.50499983 0.50781186\n",
            " 0.5112481  0.51530771 0.51998934 0.5252909  0.53120937 0.53774058\n",
            " 0.54487889 0.55261697 0.56094545 0.56985265 0.57932425 0.58934299\n",
            " 0.59988837 0.61093639 0.62245933]\n"
          ]
        }
      ]
    },
    {
      "cell_type": "code",
      "source": [
        "plt.plot(x,'r')\n",
        "plt.plot(x_e,'b')\n",
        "plt.plot(x_i,'c')\n",
        "plt.plot(x_1,'g')\n",
        "plt.plot(x_m,'y')"
      ],
      "metadata": {
        "colab": {
          "base_uri": "https://localhost:8080/",
          "height": 448
        },
        "id": "cobm6YFbQwaZ",
        "outputId": "c1a9b88d-eada-46ab-a411-2c52b04be87f"
      },
      "execution_count": null,
      "outputs": [
        {
          "output_type": "execute_result",
          "data": {
            "text/plain": [
              "[<matplotlib.lines.Line2D at 0x7f4c03f76650>]"
            ]
          },
          "metadata": {},
          "execution_count": 122
        },
        {
          "output_type": "display_data",
          "data": {
            "text/plain": [
              "<Figure size 640x480 with 1 Axes>"
            ],
            "image/png": "[encoded data removed]"
          },
          "metadata": {}
        }
      ]
    },
    {
      "cell_type": "code",
      "source": [],
      "metadata": {
        "id": "pK-MzbTmPTPK"
      },
      "execution_count": null,
      "outputs": []
    }
  ]
}